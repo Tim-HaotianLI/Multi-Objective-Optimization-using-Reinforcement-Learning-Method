{
 "cells": [
  {
   "cell_type": "code",
   "execution_count": 299,
   "id": "35a19b9d-6e9a-48e3-af59-7d9204225104",
   "metadata": {},
   "outputs": [],
   "source": [
    "import pandas as pd\n",
    "import numpy as np\n",
    "import math\n",
    "import copy\n",
    "from typing import List\n",
    "from abc import ABC\n",
    "import warnings\n",
    "import os\n",
    "import random\n",
    "\n",
    "import torch\n",
    "import torch.nn as nn\n",
    "import torch.nn.functional as F\n",
    "\n",
    "import torch.optim as optim\n",
    "from torch.optim import Adam\n",
    "\n",
    "from torch.utils.data import Dataset, DataLoader\n",
    "from torch.nn.utils import clip_grad_norm_\n",
    "\n",
    "from sklearn.preprocessing import StandardScaler\n",
    "from sklearn.model_selection import train_test_split\n",
    "from sklearn.exceptions import DataConversionWarning\n",
    "\n",
    "device = \"cuda\" if torch.cuda.is_available() else \"cpu\"\n",
    "scaler = StandardScaler()\n",
    "warnings.filterwarnings(\"ignore\", category=DataConversionWarning)\n",
    "np.set_printoptions(suppress=True)"
   ]
  },
  {
   "cell_type": "markdown",
   "id": "b8753e0b-7124-4b6e-ac30-ebf26a382b31",
   "metadata": {},
   "source": [
    "## 1. 引入数据 + 数据预处理"
   ]
  },
  {
   "cell_type": "code",
   "execution_count": 358,
   "id": "123f11b7-a382-49c5-857d-d9f56f354ceb",
   "metadata": {},
   "outputs": [],
   "source": [
    "# Cooling energy use:未预处理\n",
    "# Heating energy use:未预处理\n",
    "# Daylighting illuminance [Lux] (abbr.: DL):未预处理\n",
    "# Thermally uncomfortable hours [h] (abbr.: UCH)：除100\n",
    "# Embodied carbon: 除1000\n",
    "# Operational Carbon (abbr.: OC)：log(x)\n",
    "# Lifecycle cost (abbr.: LCost)：log10\n",
    "# Initial cost (abbr.: ICost)：log10\n",
    "# Payback Time (abbr.: PBT)：未预处理\n",
    "\n",
    "variables_range = {\n",
    "    \"Overhang Depth\":[0.4,0.6,0.8,1],\n",
    "    \"Roof insulation thickness\":[0.1,0.15,0.2],\n",
    "    \"Wall insulation thickness\":[0.03,0.04,0.05,0.06],\n",
    "    \"Insulation conductivity\":[0.026,0.032,0.044],\n",
    "    \"Window conductivity\":[1.8,2.3],\n",
    "    \"Window glazing thickness\":[0.003, 0.006],\n",
    "    \"Infiltration rate\":[0.00125,0.000625,0.0003125],\n",
    "    \"Light power\":[7.5,15.],\n",
    "    \"Glazing layer number\":[2,3],\n",
    "    \"HVAC COP\":[3., 3.2],\n",
    "    \"WWR_att1\":[0,1],\n",
    "    \"WWR_att2\":[0,1],\n",
    "    \"Lighting control strategy_att1\":[0,1],\n",
    "    \"Lighting control strategy_att2\":[0,1],\n",
    "    \"PV Installation_att1\":[0,1],\n",
    "    \"PV Installation_att2\":[0,1],\n",
    "}\n",
    "\n",
    "predict_index = {\n",
    "    'Cooling energy use':{\"model_name\":\"model_state_dict_CEU.pth\", \"process_method\":None,\"model\":None}, \n",
    "    'Heating energy use':{\"model_name\":\"model_state_dict_HEU.pth\", \"process_method\":None,\"model\":None},\n",
    "    'Daylighting illuminance [Lux]':{\"model_name\":\"model_state_dict_DL.pth\", \"process_method\":None,\"model\":None}, \n",
    "    'Thermally uncomfortable hours [h]':{\"model_name\":\"model_state_dict_UCH.pth\", \"process_method\":100,\"model\":None},\n",
    "    'Embodied carbon':{\"model_name\":\"model_state_dict_EC.pth\", \"process_method\":1000,\"model\":None},\n",
    "    'Operational Carbon':{\"model_name\":\"model_state_dict_OC.pth\", \"process_method\":\"le\",\"model\":None}, \n",
    "    'Initial Cost':{\"model_name\":\"model_state_dict_ICost.pth\", \"process_method\":\"l10\",\"model\":None}, \n",
    "    'Lifecycle cost':{\"model_name\":\"model_state_dict_LCost.pth\", \"process_method\":\"l10\",\"model\":None},\n",
    "    'Payback Period':{\"model_name\":\"model_state_dict_PBT.pth\", \"process_method\":None,\"model\":None}\n",
    "}\n",
    "\n",
    "classes_num = np.array([len(v) for _,v in variables_range.items()])\n",
    "id_to_range = [v for _,v in variables_range.items() ]"
   ]
  },
  {
   "cell_type": "code",
   "execution_count": 546,
   "id": "a7372810-951b-4c67-a725-1530ace52ff7",
   "metadata": {},
   "outputs": [],
   "source": [
    "attributes = ['Overhang Depth', 'Roof insulation thickness',\n",
    "              'Wall insulation thickness', 'Insulation conductivity',\n",
    "              'Window conductivity', 'Window glazing thickness', 'Infiltration rate',\n",
    "              'Light power', 'Glazing layer number', 'HVAC COP', 'WWR_att1', 'WWR_att2',\n",
    "              'Lighting control strategy_att1', 'Lighting control strategy_att2',\n",
    "              'PV Installation_att1', 'PV Installation_att2']\n",
    "results = ['Cooling energy use', 'Heating energy use',\n",
    "           'Daylighting illuminance [Lux]', 'Thermally uncomfortable hours [h]',\n",
    "           'Embodied carbon','Operational Carbon', 'Initial Cost', 'Lifecycle cost','Payback Period']"
   ]
  },
  {
   "cell_type": "markdown",
   "id": "d63e416b-fd0d-4fc8-ae3e-d1323e365100",
   "metadata": {},
   "source": [
    "## 2. 制作数据集"
   ]
  },
  {
   "cell_type": "code",
   "execution_count": 360,
   "id": "1b3c5dff-99a0-4263-957e-7944ab3ced87",
   "metadata": {},
   "outputs": [],
   "source": [
    "class myDataset(Dataset):\n",
    "    def __init__(self, X, y):\n",
    "        self.X = torch.FloatTensor(X.to_numpy())\n",
    "        self.y = torch.FloatTensor(y.to_numpy())\n",
    "\n",
    "    def __len__(self):\n",
    "        return len(self.X)\n",
    "\n",
    "    def __getitem__(self, index):\n",
    "        x = self.X[index]\n",
    "        y = self.y[index]\n",
    "        return x, y"
   ]
  },
  {
   "cell_type": "markdown",
   "id": "905e59dc-ddce-483d-8039-a80beb8cefa9",
   "metadata": {},
   "source": [
    "## 3. 定义模型"
   ]
  },
  {
   "cell_type": "code",
   "execution_count": 361,
   "id": "ba710746-c1c4-46e8-89ff-2a2d6d6ae86e",
   "metadata": {},
   "outputs": [],
   "source": [
    "class MLP(nn.Module):\n",
    "    def __init__(self, in_size, out_size = 1):\n",
    "        super().__init__()\n",
    "        self.linear_1 = nn.Linear(in_size, 32)\n",
    "        self.linear_2 = nn.Linear(32, 64)\n",
    "        self.linear_3 = nn.Linear(64, 128)\n",
    "        self.linear_4 = nn.Linear(128, 64)\n",
    "        self.linear_5 = nn.Linear(64, 32)\n",
    "        self.linear_6 = nn.Linear(32, 1)\n",
    "        self.para_init()\n",
    "    \n",
    "    def para_init(self):\n",
    "        nn.init.xavier_normal_(self.linear_1.weight)\n",
    "        nn.init.xavier_normal_(self.linear_2.weight)\n",
    "        nn.init.xavier_normal_(self.linear_3.weight)\n",
    "        nn.init.xavier_normal_(self.linear_4.weight)\n",
    "        nn.init.xavier_normal_(self.linear_5.weight)\n",
    "        nn.init.xavier_normal_(self.linear_6.weight)\n",
    "    \n",
    "    def forward(self, x):\n",
    "        x = self.linear_1(x)\n",
    "        x = nn.LeakyReLU()(x)\n",
    "        x = self.linear_2(x)\n",
    "        x = nn.LeakyReLU()(x)\n",
    "        x = self.linear_3(x)\n",
    "        x = nn.LeakyReLU()(x)\n",
    "        x = self.linear_4(x)\n",
    "        x = nn.LeakyReLU()(x)\n",
    "        x = self.linear_5(x)\n",
    "        x = nn.LeakyReLU()(x)\n",
    "        x = self.linear_6(x)\n",
    "        return x"
   ]
  },
  {
   "cell_type": "markdown",
   "id": "f75e73e6-84bd-447d-b5f9-211344372610",
   "metadata": {},
   "source": [
    "## 4. 处理整体数据"
   ]
  },
  {
   "cell_type": "code",
   "execution_count": 362,
   "id": "951c152b-ebc4-4970-a535-e8d4f8aaf9d2",
   "metadata": {},
   "outputs": [],
   "source": [
    "# 引入数据\n",
    "data = pd.read_excel(\"./data/Input2RL.xlsx\", index_col = \"No.\")\n",
    "\n",
    "# 对数据进行预处理：将文本信息转换为特征\n",
    "data[\"WWR_att1\"] = (data[\"WWR\"]==\"Reduced WWR\").astype(int)\n",
    "data[\"WWR_att2\"] = (data[\"WWR\"]==\"Unchanged\").astype(int)\n",
    "\n",
    "data[\"Lighting control strategy_att1\"] = (data[\"Lighting control strategy\"]==\"On/off control\").astype(int)\n",
    "data[\"Lighting control strategy_att2\"] = (data[\"Lighting control strategy\"]==\"Continuous\").astype(int)\n",
    "\n",
    "data[\"PV Installation_att1\"] = (data[\"PV Installation\"]==False).astype(int)\n",
    "data[\"PV Installation_att2\"] = (data[\"PV Installation\"]==True).astype(int)\n",
    "\n",
    "# 丢掉不不为数值的数据\n",
    "data = data.drop(\"WWR\", axis=1)\n",
    "data = data.drop(\"Lighting control strategy\", axis=1)\n",
    "data = data.drop(\"PV Installation\", axis=1)"
   ]
  },
  {
   "cell_type": "code",
   "execution_count": 363,
   "id": "009d24a4-956e-479c-99f2-0baacef3a8e8",
   "metadata": {},
   "outputs": [],
   "source": [
    "data_temp = copy.deepcopy(data)\n",
    "\n",
    "# 对数据进行标准化操作\n",
    "for a in attributes:\n",
    "    data_temp[a] = scaler.fit_transform(data_temp[[a]])\n",
    "\n",
    "for k, v in predict_index.items():\n",
    "    index = k\n",
    "    process_method = v[\"process_method\"]\n",
    "    model_name = v[\"model_name\"]\n",
    "    \n",
    "    ######## 数据处理 ########\n",
    "    if process_method==100:\n",
    "        data_temp[index] = data_temp[index].apply(lambda x: round(x/100, 4)) \n",
    "    elif process_method==1000:\n",
    "        data_temp[index] = data_temp[index].apply(lambda x: round(x/1000, 4)) \n",
    "    elif process_method == \"l10\":\n",
    "        data_temp[index] = data_temp[index].apply(lambda x: round(math.log10(x), 4)) \n",
    "    elif process_method == \"le\":\n",
    "        data_temp[index] = data_temp[index].apply(lambda x: round(math.log(x), 4)) \n",
    "\n",
    "    ######## 模型定义 ########\n",
    "    model = MLP(in_size=16).to(device)\n",
    "    model.load_state_dict(torch.load(f\"./PTH Final/{model_name}\"))\n",
    "    predict_index[k][\"model\"] = model"
   ]
  },
  {
   "cell_type": "code",
   "execution_count": 364,
   "id": "bae49224-7369-4b0b-9e31-a128540b6863",
   "metadata": {},
   "outputs": [],
   "source": [
    "def get_dataset(index):\n",
    "    global attributes\n",
    "    \n",
    "    # 数据输入\n",
    "    X = data_temp[attributes]\n",
    "    # 预测数据\n",
    "    y = data_temp[[index]]\n",
    "    \n",
    "    # 切分训练集、验证集、测试集\n",
    "    X_train, X_test, y_train, y_test = train_test_split(X, y, test_size=0.2, random_state=42)\n",
    "    X_train, X_val, y_train, y_val = train_test_split(X_train, y_train, test_size=0.25, random_state = 42)\n",
    "    \n",
    "    train_ds = myDataset(X_train, y_train)\n",
    "    train_dl = DataLoader(train_ds, batch_size = 16, shuffle=True)\n",
    "    \n",
    "    valid_ds = myDataset(X_val, y_val)\n",
    "    valid_dl = DataLoader(valid_ds, batch_size = 16)\n",
    "    \n",
    "    test_ds = myDataset(X_test, y_test)\n",
    "    test_dl = DataLoader(test_ds, batch_size = 16)\n",
    "    return train_dl, valid_dl, test_dl"
   ]
  },
  {
   "cell_type": "code",
   "execution_count": 365,
   "id": "3250b83c-d9e1-49e8-ab30-3ef509db6e7c",
   "metadata": {},
   "outputs": [],
   "source": [
    "def get_model(index):\n",
    "    global predict_index\n",
    "    model = predict_index[index][\"model\"]\n",
    "    return model"
   ]
  },
  {
   "cell_type": "code",
   "execution_count": 366,
   "id": "387fb6c7-e8e9-4608-85b5-4eb3a97a8bf7",
   "metadata": {},
   "outputs": [],
   "source": [
    "def get_loss(index = None):\n",
    "    if index == None:\n",
    "        return \"No Index is given\"\n",
    "\n",
    "    train_dl, valid_dl, test_dl = get_dataset(index)\n",
    "    model = get_model(index)\n",
    "    \n",
    "    model.eval()\n",
    "    with torch.no_grad():\n",
    "        loss_list = []\n",
    "        for x, y in test_dl:\n",
    "            x = x.to(device)\n",
    "            y = y.to(device)\n",
    "            y_c = model(x)\n",
    "            loss = nn.MSELoss()(y_c,y)\n",
    "            loss_list.append(loss.item())\n",
    "        loss_list = np.array(loss_list)\n",
    "    return loss_list"
   ]
  },
  {
   "cell_type": "code",
   "execution_count": 367,
   "id": "7c6eae0a-aa03-4272-a4ee-8fdbf2b702ec",
   "metadata": {},
   "outputs": [
    {
     "name": "stdout",
     "output_type": "stream",
     "text": [
      "Cooling energy use, loss:0.09502912775300838\n",
      "Heating energy use, loss:0.20287503738034768\n",
      "Daylighting illuminance [Lux], loss:0.1756702543189002\n",
      "Thermally uncomfortable hours [h], loss:0.005668187461213296\n",
      "Embodied carbon, loss:0.0021959944011468602\n",
      "Operational Carbon, loss:0.016531975351301166\n",
      "Initial Cost, loss:0.005080911458751396\n",
      "Lifecycle cost, loss:0.005490686031925854\n",
      "Payback Period, loss:0.2275413380377691\n"
     ]
    }
   ],
   "source": [
    "# get_loss()函数的测试代码\n",
    "for index in results:\n",
    "    loss_list = get_loss(index)\n",
    "    \n",
    "    if process_method==100:\n",
    "        loss = np.sqrt(loss_list)*100\n",
    "    elif process_method==1000:\n",
    "        loss = np.sqrt(loss_list)*1000\n",
    "    elif process_method == \"l10\":\n",
    "        loss = np.power(10,np.sqrt(loss_list))\n",
    "    elif process_method == \"le\":\n",
    "        loss = np.exp(np.sqrt(loss_list))\n",
    "    elif process_method == None:\n",
    "        loss = np.sqrt(loss_list)\n",
    "\n",
    "    print(f\"{index}, loss:{loss.mean()}\")"
   ]
  },
  {
   "cell_type": "markdown",
   "id": "1df28cdd-0526-4248-9299-1a3a95516801",
   "metadata": {},
   "source": [
    "## 5. 编写环境"
   ]
  },
  {
   "cell_type": "code",
   "execution_count": 528,
   "id": "284ab3e0-e7f3-4467-8119-e7095678740d",
   "metadata": {},
   "outputs": [],
   "source": [
    "class MooSCH:\n",
    "    def __init__(self, variables_range, predict_index, temp_data, origin_data):\n",
    "        self.variables_range = variables_range\n",
    "        self.predict_index = predict_index\n",
    "        self.temp_data = temp_data\n",
    "        self.origin_data = origin_data\n",
    "        self.x_dim = len(variables_range)\n",
    "        self.obj_dim = len(predict_index)\n",
    "        self.scaler = StandardScaler()\n",
    "\n",
    "    def scaled_data(self, u):\n",
    "        indexes = list(self.variables_range.keys())\n",
    "        v_list = []\n",
    "        for v,idx in zip(u, indexes):\n",
    "            self.scaler.fit(self.origin_data[[idx]])\n",
    "            v_test = self.scaler.transform(pd.DataFrame([[v]], columns=[idx])).squeeze().tolist()\n",
    "            v_list.append(v_test)\n",
    "        v_list = np.array(v_list)\n",
    "        return v_list\n",
    "    \n",
    "    def obj(self, u):\n",
    "        # 注1：输入的是原值；然后需要scale data\n",
    "        scaled_u = self.scaled_data(u)\n",
    "        scaled_u = torch.FloatTensor(scaled_u).to(device)\n",
    "        predict_outcomes = []\n",
    "        for k,v in predict_index.items():\n",
    "            process_method = v[\"process_method\"]\n",
    "            model = v[\"model\"].to(device)\n",
    "            model.eval()\n",
    "            with torch.no_grad():\n",
    "                outcome = model(scaled_u).cpu().numpy()\n",
    "\n",
    "            if process_method==100:\n",
    "                outcome_true = outcome*100\n",
    "            elif process_method==1000:\n",
    "                outcome_true = outcome*1000\n",
    "            elif process_method == \"l10\":\n",
    "                outcome_true = np.power(10,outcome)\n",
    "            elif process_method == \"le\":\n",
    "                outcome_true = np.exp(outcome)\n",
    "            elif process_method == None:\n",
    "                outcome_true = outcome\n",
    "            \n",
    "            predict_outcomes.append(outcome_true.tolist())\n",
    "        predict_outcomes = np.array(predict_outcomes)\n",
    "        return predict_outcomes"
   ]
  },
  {
   "cell_type": "code",
   "execution_count": 529,
   "id": "94f43978-a17b-47b7-88db-21c7bf9a57a1",
   "metadata": {},
   "outputs": [],
   "source": [
    "# # MooSCH()类的测试代码\n",
    "# test_u = data.iloc[2,list(range(10)) + list(range(19,25))].values.tolist()\n",
    "# testSCH = MooSCH(variables_range, predict_index, data_temp, data)\n",
    "# np.set_printoptions(suppress=True)\n",
    "# objectives = testSCH.obj(test_u)\n",
    "\n",
    "# print(objectives.squeeze())\n",
    "# print(data.iloc[2].values[10:19])"
   ]
  },
  {
   "cell_type": "code",
   "execution_count": 530,
   "id": "3f798fa7-8309-479c-b2a5-39395e858df3",
   "metadata": {},
   "outputs": [],
   "source": [
    "class MooTestSetting:\n",
    "    def __init__(self, moo_prob):\n",
    "        self.moo_prob = moo_prob\n",
    "        self.variables_num = len(self.moo_prob.variables_range)\n",
    "        self.class_num = np.array([len(v) for _,v in self.moo_prob.variables_range.items()])\n",
    "        self.id_to_range = [v for _,v in self.moo_prob.variables_range.items() ]\n",
    "        self.max_actions = [max(l) for l in self.id_to_range]\n",
    "\n",
    "    def softmax(self, x):\n",
    "        x_exp = np.exp(x - np.max(x))\n",
    "        return x_exp / np.sum(x_exp)\n",
    "    \n",
    "    def _state_to_action(self, state):\n",
    "        action_list = []\n",
    "        for idx, ac in enumerate(state[:10]):\n",
    "            ac = int(ac)\n",
    "            action_list.append(self.id_to_range[idx][ac])   \n",
    "        action_list.extend(state[10:])\n",
    "        action_list = np.array(action_list)\n",
    "        return action_list\n",
    "    \n",
    "    def obj_value(self,state):\n",
    "        action = self._state_to_action(state)\n",
    "        predict_outcome = self.moo_prob.obj(action)\n",
    "        return predict_outcome\n",
    "\n",
    "    def reward_value(self, elite_list, obj_value, elite_action_list, action):\n",
    "        # 这里采用的是帕累托最优算法\n",
    "        # elite_list中包含的是结果的集合\n",
    "        \n",
    "        m = self.moo_prob.obj_dim # objectives的数量\n",
    "        num_dominated = 0\n",
    "        reward = 1\n",
    "        if_exist = False # 判断新进入的obj_value是否在elite_list中\n",
    "        if_dominated = False # obj_value比elite_list中的数据要差\n",
    "        if_dominate_others = False # obj_value比elite_list中的数据要好\n",
    "        corr_sign = np.array([1,1,-1,1,1,1,1,1,1])\n",
    "\n",
    "        for i, current_elite in enumerate(elite_list):\n",
    "            if (current_elite == obj_value).all():\n",
    "                # 如果obj_value已经在elite_list中存在，那么奖励为0\n",
    "                reward = 0\n",
    "                return reward\n",
    "\n",
    "        dominated_indices = []\n",
    "        for i, current_elite in enumerate(elite_list):\n",
    "            # 如果current_elite != obj_value\n",
    "            delta = current_elite - obj_value\n",
    "            delta_sign = np.sign(delta)\n",
    "            delta_sign = delta_sign.squeeze().astype(\"int64\")\n",
    "            delta_sum = np.sum(delta_sign == corr_sign)\n",
    "            # print(delta_sign)\n",
    "            # print(corr_sign)\n",
    "\n",
    "            if delta_sum == m:\n",
    "                # obj_value中的数据比current_elite中的数据要好【除了Daylighting illuminance，其他都要小】\n",
    "                reward = 4 # 这么好的情况，给与一个正的奖励\n",
    "                if_dominate_others = True\n",
    "                dominated_indices.append(i)\n",
    "            elif delta_sum  <= 6:\n",
    "                # obj_value中的数据比current_elite中的数据要差【除了Daylighting illuminance，其他都要大】\n",
    "                reward = -2 # 这么差的情况，给予一个负的奖励\n",
    "                if_dominated = True\n",
    "                break\n",
    "            \n",
    "        if if_dominated: # 当精英解支配了新解时\n",
    "            # 如果elite_list中的个元素比obj_value要好，那么reward为-2。【说明新的action效果不好】\n",
    "            return reward\n",
    "        elif if_dominate_others: # 当新解支配了现有的精英解时\n",
    "            # 如果obj_value要比elite_list中某些元素要好，那么reward为4。【说明新的action效果好】\n",
    "            for idx in reversed(dominated_indices):\n",
    "                elite_list.pop(idx)\n",
    "                elite_action_list.pop(idx)\n",
    "            elite_list.append(obj_value)\n",
    "            elite_action_list.append(action)\n",
    "            print(f\"Found Obj Value:{obj_value}\")\n",
    "            return reward\n",
    "        else:\n",
    "            # 如果obj_value与elite_list不存在支配关系，那么reward为3\n",
    "            elite_list.append(obj_value)\n",
    "            elite_action_list.append(action)\n",
    "            return reward\n",
    "\n",
    "    def state_update(self, action):\n",
    "        new_state = []\n",
    "        for i, a in enumerate(action[:10]):\n",
    "            idx = self.id_to_range[i].index(a)\n",
    "            new_state.append(idx)\n",
    "        new_state.extend(action[10:])\n",
    "        new_state = np.array(new_state)\n",
    "        return new_state\n",
    "\n",
    "    def initial_state(self):\n",
    "        state_list = []\n",
    "        for k in self.class_num[:10]:\n",
    "            state_p = self.softmax(np.random.rand(k).tolist())\n",
    "            state = np.argmax(state_p)\n",
    "            state_list.append(state)\n",
    "\n",
    "        for a,b in zip(self.class_num[10::2], self.class_num[11::2]):\n",
    "            a_p = self.softmax(np.random.rand(a).tolist())\n",
    "            b_p = self.softmax(np.random.rand(b).tolist())\n",
    "            if a_p[-1] > b_p[-1]:\n",
    "                state_list.extend([1,0])\n",
    "            elif a_p[-1] < b_p[-1]:\n",
    "                state_list.extend([0,1])\n",
    "            \n",
    "        return state_list"
   ]
  },
  {
   "cell_type": "code",
   "execution_count": 531,
   "id": "52210b42-339d-488c-a306-b402a28e0a54",
   "metadata": {},
   "outputs": [],
   "source": [
    "class MooEnv:\n",
    "    def __init__(self, moo_setting, *args):\n",
    "        self.moo_setting = moo_setting\n",
    "\n",
    "        self.init_state_func = self.moo_setting.initial_state\n",
    "        self.update_state_func = self.moo_setting.state_update\n",
    "        self.get_reward_func = self.moo_setting.reward_value\n",
    "        self.get_obj_func = self.moo_setting.obj_value\n",
    "\n",
    "        self.args = args\n",
    "        self.elite_list = []\n",
    "        self.elite_action_list = []\n",
    "        self.state = None\n",
    "        self.object = None\n",
    "\n",
    "    def reset(self):\n",
    "        self.state = self.init_state_func()\n",
    "        self.object = self.get_obj_func(self.state)\n",
    "        self.elite_list = [self.object]\n",
    "        action = self.moo_setting._state_to_action(self.state)\n",
    "        self.elite_action_list = [action]\n",
    "        return self.state, self.elite_list\n",
    "\n",
    "    def step(self, action):\n",
    "        next_state = self.update_state_func(action)\n",
    "        self.object = self.get_obj_func(next_state)\n",
    "        reward = self.get_reward_func(self.elite_list, self.object, self.elite_action_list, action)\n",
    "            \n",
    "        self.state = next_state\n",
    "        return self.state, reward"
   ]
  },
  {
   "cell_type": "code",
   "execution_count": 515,
   "id": "afc18b2e-80a4-4fe3-8b5a-648767c8223c",
   "metadata": {},
   "outputs": [],
   "source": [
    "# 测试代码\n",
    "# moo_prob = MooSCH(variables_range, predict_index, data_temp, data)\n",
    "# moo_setting = MooTestSetting(moo_prob)\n",
    "# moo = MooEnv(moo_setting)"
   ]
  },
  {
   "cell_type": "code",
   "execution_count": 532,
   "id": "24a49a79-388f-4799-bf23-b2994c6d8b62",
   "metadata": {},
   "outputs": [],
   "source": [
    "def set_seed(seed = 42):\n",
    "    os.environ['PYTHONHASHSEED'] = '42'\n",
    "    random.seed(42)\n",
    "    \n",
    "    # 固定NumPy随机性\n",
    "    np.random.seed(42)\n",
    "    \n",
    "    # 固定PyTorch随机性\n",
    "    torch.manual_seed(42)\n",
    "    torch.cuda.manual_seed(42)\n",
    "    torch.cuda.manual_seed_all(42)\n",
    "    \n",
    "    # 确保完全可控的随机性\n",
    "    torch.backends.cudnn.deterministic = True\n",
    "    torch.backends.cudnn.benchmark = False"
   ]
  },
  {
   "cell_type": "markdown",
   "id": "c96bfb1e-df3e-420d-9f4d-42f9a919aec6",
   "metadata": {},
   "source": [
    "### 6. 定义Actor和Critic"
   ]
  },
  {
   "cell_type": "code",
   "execution_count": 533,
   "id": "af730c96-c092-416c-8dc2-5700cd1e4b02",
   "metadata": {},
   "outputs": [],
   "source": [
    "# 定义Actor：输入的是state, 输出是一个39维的action\n",
    "class Actor(nn.Module):\n",
    "    def __init__(self, input_dim, classes_num):\n",
    "        super().__init__()\n",
    "        self.classes_num = classes_num\n",
    "        # 定义共享主干层\n",
    "        self.shared_feature_layer = nn.Sequential(\n",
    "            nn.Linear(input_dim, 128),\n",
    "            nn.ReLU(),\n",
    "            nn.Linear(128,64),\n",
    "            nn.ReLU()\n",
    "        )\n",
    "        # 策略网络分支\n",
    "        self.policy_layer = nn.ModuleList([\n",
    "            nn.Sequential(\n",
    "                nn.Linear(64, num_class),\n",
    "                nn.Softmax(dim=0)\n",
    "            ) for num_class in self.classes_num\n",
    "        ])\n",
    "\n",
    "    def forward(self, state):\n",
    "        shared_features = self.shared_feature_layer(state)\n",
    "        policy = [layer(shared_features) for layer in self.policy_layer]\n",
    "\n",
    "        return policy"
   ]
  },
  {
   "cell_type": "code",
   "execution_count": 534,
   "id": "def7c1ff-09aa-44d9-94d0-fb8434c5f7f7",
   "metadata": {},
   "outputs": [],
   "source": [
    "# 定义critic: 输入的是state，输出一个q_value\n",
    "class Critic(nn.Module):\n",
    "    def __init__(self,input_dim):\n",
    "        super().__init__()\n",
    "        # 定义共享主干层\n",
    "        self.shared_feature_layer = nn.Sequential(\n",
    "            nn.Linear(input_dim, 128),\n",
    "            nn.ReLU(),\n",
    "            nn.Linear(128,64),\n",
    "            nn.ReLU()\n",
    "        )\n",
    "        # 定义价值计算层\n",
    "        self.value = nn.Linear(64,1)\n",
    "    def forward(self, state):\n",
    "        shared_features = self.shared_feature_layer(state)\n",
    "        value = self.value(shared_features)\n",
    "        return value"
   ]
  },
  {
   "cell_type": "code",
   "execution_count": null,
   "id": "f25f4b44-706d-4a63-bceb-520bbe07327a",
   "metadata": {},
   "outputs": [],
   "source": []
  },
  {
   "cell_type": "code",
   "execution_count": 535,
   "id": "64576fe0-7fa8-4ef1-b9c6-35dcf2918acc",
   "metadata": {},
   "outputs": [],
   "source": [
    "def train_iteration(initial_state, gamma, max_iter_step, actor_model, cirtic_model, optimizer_actor, optimizer_critic):\n",
    "    global classes_num, id_to_range\n",
    "    state_current = torch.FloatTensor(initial_state)\n",
    "    \n",
    "    step_reward = 0\n",
    "    sum_reward = 0.0\n",
    "    # avg_reward = 0.0\n",
    "\n",
    "    for current_step in range(max_iter_step):\n",
    "\n",
    "        optimizer_actor.zero_grad()\n",
    "        optimizer_critic.zero_grad()\n",
    "        \n",
    "\n",
    "        value_current_out = cirtic_model(state_current)\n",
    "\n",
    "        action_net_out = actor_model(state_current)\n",
    "\n",
    "        action_list = []\n",
    "        prob_list = []\n",
    "        for idx, p in enumerate(action_net_out[:10]):\n",
    "            action_idx = torch.multinomial(p,1)\n",
    "            action = id_to_range[idx][action_idx]\n",
    "            action_list.append(action)\n",
    "            prob_list.append(p[action_idx].item())\n",
    "            \n",
    "        for p1,p2 in zip(action_net_out[10::2], action_net_out[11::2]):\n",
    "            action_list.extend(torch.where(p1[-1] > p2[-1], torch.tensor([1, 0]), torch.tensor([0, 1])).tolist())\n",
    "            prob_list.extend(torch.where(p1[-1] > p2[-1], torch.tensor([p1[-1], p2[0]]), torch.tensor([p1[0], p2[-1]])).tolist())\n",
    "\n",
    "\n",
    "        action_list = torch.FloatTensor(action_list)\n",
    "        prob_list = torch.FloatTensor(prob_list)\n",
    "\n",
    "        state_next, step_reward = moo.step(action_list)\n",
    "        state_next = torch.FloatTensor(state_next)\n",
    "        value_next_out = cirtic_model(state_next)\n",
    "\n",
    "        sum_reward += step_reward\n",
    "        \n",
    "        TD_err = step_reward + gamma* value_next_out - value_current_out\n",
    "        log_prob = torch.log(prob_list).sum()\n",
    "\n",
    "        loss_actor = -(TD_err * log_prob)\n",
    "        loss_actor.backward(retain_graph=True)\n",
    "        optimizer_actor.step()\n",
    "\n",
    "        loss_critic = TD_err.pow(2).mean() # 这个其实是mseloss(): [(x - y) ^2]/N\n",
    "        loss_critic.backward()\n",
    "        optimizer_critic.step()\n",
    "\n",
    "        state_current = state_next\n",
    "\n",
    "        if (current_step+1) % 1000 == 0:\n",
    "            print(f'Step: {current_step}, avg_reward = {sum_reward/(current_step+1)}, elite num = {len(moo.elite_list)}')\n",
    "\n",
    "    return [sum_reward/max_iter_step, len(moo.elite_list)]"
   ]
  },
  {
   "cell_type": "code",
   "execution_count": 536,
   "id": "aaf58dcb-10cc-402f-acf2-59ea9af01db1",
   "metadata": {
    "scrolled": true
   },
   "outputs": [
    {
     "name": "stdout",
     "output_type": "stream",
     "text": [
      "Step: 999, avg_reward = -1.988, elite num = 4\n",
      "Step: 1999, avg_reward = -1.993, elite num = 4\n",
      "Step: 2999, avg_reward = -1.9953333333333334, elite num = 4\n",
      "Step: 3999, avg_reward = -1.9965, elite num = 4\n",
      "Step: 4999, avg_reward = -1.9972, elite num = 4\n",
      "Step: 5999, avg_reward = -1.9971666666666668, elite num = 5\n",
      "Step: 6999, avg_reward = -1.9975714285714286, elite num = 5\n",
      "Step: 7999, avg_reward = -1.997375, elite num = 5\n",
      "Step: 8999, avg_reward = -1.9974444444444444, elite num = 5\n",
      "Step: 9999, avg_reward = -1.9977, elite num = 5\n",
      "Step: 10999, avg_reward = -1.9979090909090909, elite num = 5\n",
      "Step: 11999, avg_reward = -1.9979166666666666, elite num = 5\n",
      "Step: 12999, avg_reward = -1.998076923076923, elite num = 5\n",
      "Step: 13999, avg_reward = -1.9980714285714285, elite num = 5\n",
      "Step: 14999, avg_reward = -1.9982, elite num = 5\n",
      "Step: 15999, avg_reward = -1.9983125, elite num = 5\n",
      "Step: 16999, avg_reward = -1.998235294117647, elite num = 6\n",
      "Step: 17999, avg_reward = -1.9983333333333333, elite num = 6\n",
      "Step: 18999, avg_reward = -1.9984210526315789, elite num = 6\n",
      "Step: 19999, avg_reward = -1.9985, elite num = 6\n",
      "Step: 20999, avg_reward = -1.9985714285714287, elite num = 6\n",
      "Step: 21999, avg_reward = -1.9985454545454546, elite num = 6\n",
      "Step: 22999, avg_reward = -1.9986086956521738, elite num = 6\n",
      "Step: 23999, avg_reward = -1.9985833333333334, elite num = 6\n",
      "Step: 24999, avg_reward = -1.99864, elite num = 6\n",
      "Step: 25999, avg_reward = -1.9986923076923078, elite num = 6\n",
      "Step: 26999, avg_reward = -1.9986666666666666, elite num = 6\n",
      "Step: 27999, avg_reward = -1.9987142857142857, elite num = 6\n",
      "Step: 28999, avg_reward = -1.9987586206896553, elite num = 6\n",
      "Step: 29999, avg_reward = -1.9987333333333333, elite num = 6\n",
      "Step: 30999, avg_reward = -1.9987741935483871, elite num = 6\n",
      "Step: 31999, avg_reward = -1.9988125, elite num = 6\n",
      "Step: 32999, avg_reward = -1.9988484848484849, elite num = 6\n",
      "Step: 33999, avg_reward = -1.9988823529411766, elite num = 6\n",
      "Step: 34999, avg_reward = -1.9989142857142856, elite num = 6\n",
      "Step: 35999, avg_reward = -1.998888888888889, elite num = 6\n",
      "Step: 36999, avg_reward = -1.9988648648648648, elite num = 6\n",
      "Step: 37999, avg_reward = -1.998842105263158, elite num = 6\n",
      "Step: 38999, avg_reward = -1.9988205128205128, elite num = 6\n",
      "Step: 39999, avg_reward = -1.99885, elite num = 6\n",
      "Step: 40999, avg_reward = -1.998829268292683, elite num = 6\n",
      "Step: 41999, avg_reward = -1.9988571428571429, elite num = 6\n",
      "Step: 42999, avg_reward = -1.9988837209302326, elite num = 6\n",
      "Step: 43999, avg_reward = -1.998909090909091, elite num = 6\n",
      "Step: 44999, avg_reward = -1.998888888888889, elite num = 6\n",
      "Step: 45999, avg_reward = -1.9988695652173913, elite num = 6\n",
      "Step: 46999, avg_reward = -1.9988936170212765, elite num = 6\n",
      "Step: 47999, avg_reward = -1.9989166666666667, elite num = 6\n",
      "Step: 48999, avg_reward = -1.9989387755102042, elite num = 6\n",
      "Step: 49999, avg_reward = -1.99896, elite num = 6\n"
     ]
    }
   ],
   "source": [
    "# 测试代码\n",
    "seed = 42\n",
    "set_seed(seed=seed)\n",
    "\n",
    "# 定义环境\n",
    "moo_prob = MooSCH(variables_range, predict_index, data_temp, data)\n",
    "moo_setting = MooTestSetting(moo_prob)\n",
    "moo = MooEnv(moo_setting)\n",
    "# 初始化状态\n",
    "initial_state = moo_setting.initial_state()\n",
    "\n",
    "# 定义模型\n",
    "actor = Actor(input_dim=16,classes_num=classes_num)\n",
    "critic = Critic(input_dim=16)\n",
    "optimizer_actor = optim.Adam(actor.parameters(), lr=1e-4)\n",
    "optimizer_critic = optim.Adam(critic.parameters(), lr=1e-4)\n",
    "\n",
    "results = train_iteration(\n",
    "    initial_state = initial_state, \n",
    "    gamma = 0.99, \n",
    "    max_iter_step = 50000,\n",
    "    actor_model = actor, \n",
    "    cirtic_model = critic, \n",
    "    optimizer_actor = optimizer_actor, \n",
    "    optimizer_critic = optimizer_critic\n",
    ")"
   ]
  },
  {
   "cell_type": "code",
   "execution_count": 545,
   "id": "515168e1-fe06-45d5-8750-745af395ba5b",
   "metadata": {},
   "outputs": [
    {
     "data": {
      "text/plain": [
       "[-1.99896, 6]"
      ]
     },
     "execution_count": 545,
     "metadata": {},
     "output_type": "execute_result"
    }
   ],
   "source": [
    "results"
   ]
  },
  {
   "cell_type": "code",
   "execution_count": 557,
   "id": "a5bbf697-218c-4e3a-8da2-c16e3c6764e3",
   "metadata": {},
   "outputs": [],
   "source": [
    "def softmax(x):\n",
    "    x_exp = np.exp(x - np.max(x))\n",
    "    return x_exp / np.sum(x_exp)"
   ]
  },
  {
   "cell_type": "code",
   "execution_count": 558,
   "id": "c59de921-c68c-4750-a877-e4e24eadbb51",
   "metadata": {},
   "outputs": [],
   "source": [
    "dd = data[results].mean().values"
   ]
  },
  {
   "cell_type": "code",
   "execution_count": 560,
   "id": "55dc6eb7-372d-4457-99cf-798f97536b3a",
   "metadata": {},
   "outputs": [
    {
     "data": {
      "text/plain": [
       "array([    19.08107276,     28.56071811,     39.7199386 ,   3150.82473265,\n",
       "         6214.77242908,  91159.84986185,  66591.43173913, 168632.63809525,\n",
       "           20.40138527])"
      ]
     },
     "execution_count": 560,
     "metadata": {},
     "output_type": "execute_result"
    }
   ],
   "source": [
    "data[results].mean().values"
   ]
  },
  {
   "cell_type": "code",
   "execution_count": 561,
   "id": "ddf5e4ef-455f-44d1-9645-feaadb0cb4e7",
   "metadata": {},
   "outputs": [
    {
     "data": {
      "text/plain": [
       "Cooling energy use                       19.081073\n",
       "Heating energy use                       28.560718\n",
       "Daylighting illuminance [Lux]            39.719939\n",
       "Thermally uncomfortable hours [h]      3150.824733\n",
       "Embodied carbon                        6214.772429\n",
       "Operational Carbon                    91159.849862\n",
       "Initial Cost                          66591.431739\n",
       "Lifecycle cost                       168632.638095\n",
       "Payback Period                           20.401385\n",
       "dtype: float64"
      ]
     },
     "execution_count": 561,
     "metadata": {},
     "output_type": "execute_result"
    }
   ],
   "source": [
    "data[results].mean()"
   ]
  },
  {
   "cell_type": "code",
   "execution_count": 559,
   "id": "3305856d-069a-46fe-a0aa-e5f94e98f401",
   "metadata": {},
   "outputs": [
    {
     "data": {
      "text/plain": [
       "array([0., 0., 0., 0., 0., 0., 0., 1., 0.])"
      ]
     },
     "execution_count": 559,
     "metadata": {},
     "output_type": "execute_result"
    }
   ],
   "source": [
    "softmax(x=dd)"
   ]
  },
  {
   "cell_type": "code",
   "execution_count": 537,
   "id": "ed2ffa45-0569-49f9-baef-f1834b0580af",
   "metadata": {},
   "outputs": [],
   "source": [
    "el = np.array(moo.elite_list)"
   ]
  },
  {
   "cell_type": "code",
   "execution_count": 538,
   "id": "124a079c-d780-43ef-8ec8-96e774d67c6f",
   "metadata": {
    "scrolled": true
   },
   "outputs": [
    {
     "data": {
      "text/plain": [
       "array([[[    18.55200195],\n",
       "        [    32.52696609],\n",
       "        [    65.41745758],\n",
       "        [  3187.08886719],\n",
       "        [  6349.30322266],\n",
       "        [114271.6328125 ],\n",
       "        [ 65807.21875   ],\n",
       "        [164681.125     ],\n",
       "        [    20.75338364]],\n",
       "\n",
       "       [[    17.26791763],\n",
       "        [    30.92500877],\n",
       "        [    65.44688416],\n",
       "        [  3196.20483398],\n",
       "        [ 10707.97753906],\n",
       "        [100379.2890625 ],\n",
       "        [ 57676.09765625],\n",
       "        [154064.015625  ],\n",
       "        [    18.30887413]],\n",
       "\n",
       "       [[    17.80431366],\n",
       "        [    29.89082146],\n",
       "        [    15.61038589],\n",
       "        [  3180.19970703],\n",
       "        [  9751.69140625],\n",
       "        [ 67300.078125  ],\n",
       "        [ 55348.8671875 ],\n",
       "        [151152.46875   ],\n",
       "        [    17.9585495 ]],\n",
       "\n",
       "       [[    18.44833374],\n",
       "        [    30.66171074],\n",
       "        [    16.35787201],\n",
       "        [  3178.36767578],\n",
       "        [  9158.39160156],\n",
       "        [ 58068.765625  ],\n",
       "        [ 53119.9765625 ],\n",
       "        [150405.171875  ],\n",
       "        [    16.85069466]],\n",
       "\n",
       "       [[    17.48469162],\n",
       "        [    30.22281456],\n",
       "        [    16.37241936],\n",
       "        [  3185.49145508],\n",
       "        [  5707.79833984],\n",
       "        [ 58435.92578125],\n",
       "        [ 51011.5234375 ],\n",
       "        [147485.015625  ],\n",
       "        [    16.26756287]],\n",
       "\n",
       "       [[    16.76536751],\n",
       "        [    28.43502426],\n",
       "        [    20.18691635],\n",
       "        [  3181.97436523],\n",
       "        [  5705.20117188],\n",
       "        [101167.15625   ],\n",
       "        [ 47337.59375   ],\n",
       "        [137315.21875   ],\n",
       "        [    15.40515327]]])"
      ]
     },
     "execution_count": 538,
     "metadata": {},
     "output_type": "execute_result"
    }
   ],
   "source": [
    "el"
   ]
  },
  {
   "cell_type": "code",
   "execution_count": 539,
   "id": "5830daed-b4ec-4e10-894b-f5ec30d69ee1",
   "metadata": {},
   "outputs": [],
   "source": [
    "eal = np.array(moo.elite_action_list)"
   ]
  },
  {
   "cell_type": "code",
   "execution_count": 540,
   "id": "f6842138-c544-462f-a08c-12d40621b437",
   "metadata": {},
   "outputs": [
    {
     "data": {
      "text/plain": [
       "array([[0.4      , 0.15     , 0.03     , 0.026    , 1.8      , 0.006    ,\n",
       "        0.0003125, 7.5      , 2.       , 3.       , 0.       , 1.       ,\n",
       "        0.       , 1.       , 0.       , 1.       ],\n",
       "       [0.4      , 0.1      , 0.06     , 0.044    , 1.8      , 0.003    ,\n",
       "        0.0003125, 7.5      , 2.       , 3.2      , 0.       , 1.       ,\n",
       "        0.       , 1.       , 0.       , 1.       ],\n",
       "       [0.8      , 0.15     , 0.04     , 0.044    , 1.8      , 0.003    ,\n",
       "        0.0003125, 7.5      , 3.       , 3.2      , 0.       , 1.       ,\n",
       "        0.       , 1.       , 0.       , 1.       ],\n",
       "       [0.6      , 0.2      , 0.03     , 0.044    , 1.8      , 0.003    ,\n",
       "        0.0003125, 7.5      , 3.       , 3.2      , 0.       , 1.       ,\n",
       "        0.       , 1.       , 0.       , 1.       ],\n",
       "       [0.6      , 0.15     , 0.05     , 0.044    , 1.8      , 0.003    ,\n",
       "        0.00125  , 7.5      , 3.       , 3.2      , 0.       , 1.       ,\n",
       "        0.       , 1.       , 1.       , 0.       ],\n",
       "       [0.4      , 0.2      , 0.05     , 0.044    , 2.3      , 0.003    ,\n",
       "        0.0003125, 7.5      , 3.       , 3.2      , 0.       , 1.       ,\n",
       "        0.       , 1.       , 1.       , 0.       ]], dtype=float32)"
      ]
     },
     "execution_count": 540,
     "metadata": {},
     "output_type": "execute_result"
    }
   ],
   "source": [
    "eal"
   ]
  },
  {
   "cell_type": "code",
   "execution_count": 541,
   "id": "02c6efae-cc41-4bc5-b73d-526e9ac20353",
   "metadata": {},
   "outputs": [
    {
     "data": {
      "text/plain": [
       "array([    16.76895216,     28.23942226,     20.13054407,   3182.04166667,\n",
       "         5706.8945    , 101999.46755073,  46183.25565217, 137149.93116914,\n",
       "           16.        ])"
      ]
     },
     "execution_count": 541,
     "metadata": {},
     "output_type": "execute_result"
    }
   ],
   "source": [
    "# # 用于验证结果的测试代码\n",
    "data[\n",
    "(data[\"Overhang Depth\"] == 0.4) & \n",
    "(data[\"Roof insulation thickness\"] == 0.2) & \n",
    "(data[\"Wall insulation thickness\"] == 0.05) &\n",
    "(data[\"Insulation conductivity\"] == 0.044) & \n",
    "(data[\"Window conductivity\"] == 2.3) & \n",
    "(data[\"Window glazing thickness\"] == 0.003) &\n",
    "(data[\"Infiltration rate\"] == 0.0003125) & \n",
    "(data[\"Light power\"] == 7.5) & \n",
    "(data[\"Glazing layer number\"] == 3.) &\n",
    "(data[\"HVAC COP\"] == 3.2) &\n",
    "(data[\"WWR_att1\"] == 0.) & \n",
    "(data[\"WWR_att2\"] == 1.) & \n",
    "(data[\"Lighting control strategy_att1\"] == 0.) &\n",
    "(data[\"Lighting control strategy_att2\"] == 1.) &\n",
    "(data[\"PV Installation_att1\"] == 1.) &\n",
    "(data[\"PV Installation_att2\"] == 0.) \n",
    "].values.squeeze()[10:19]"
   ]
  },
  {
   "cell_type": "code",
   "execution_count": 562,
   "id": "0a26f7e0-6431-4e5b-a121-45e92b3ce531",
   "metadata": {},
   "outputs": [],
   "source": [
    "!pip freeze > requirement.txt"
   ]
  },
  {
   "cell_type": "code",
   "execution_count": null,
   "id": "c90130a3-df35-475c-94f4-fe2e70212548",
   "metadata": {},
   "outputs": [],
   "source": []
  }
 ],
 "metadata": {
  "kernelspec": {
   "display_name": "RL",
   "language": "python",
   "name": "rl"
  },
  "language_info": {
   "codemirror_mode": {
    "name": "ipython",
    "version": 3
   },
   "file_extension": ".py",
   "mimetype": "text/x-python",
   "name": "python",
   "nbconvert_exporter": "python",
   "pygments_lexer": "ipython3",
   "version": "3.9.20"
  }
 },
 "nbformat": 4,
 "nbformat_minor": 5
}
